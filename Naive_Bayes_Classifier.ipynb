{
  "nbformat": 4,
  "nbformat_minor": 0,
  "metadata": {
    "colab": {
      "provenance": []
    },
    "kernelspec": {
      "name": "python3",
      "display_name": "Python 3"
    },
    "language_info": {
      "name": "python"
    }
  },
  "cells": [
    {
      "cell_type": "markdown",
      "source": [
        "Simple Naive Bayes classifier for CS 441 - Ian Vetter\n"
      ],
      "metadata": {
        "id": "KXv8aDSDBfV_"
      }
    },
    {
      "cell_type": "code",
      "execution_count": null,
      "metadata": {
        "id": "DVZetcp1_8SG"
      },
      "outputs": [],
      "source": [
        "%matplotlib inline\n",
        "import pandas as pd\n",
        "import numpy as np\n",
        "import seaborn as sns\n",
        "import matplotlib.pyplot as plt\n",
        "\n",
        "from aml_utils import test_case_checker"
      ]
    },
    {
      "cell_type": "code",
      "source": [],
      "metadata": {
        "id": "XTIpQkjtBmT5"
      },
      "execution_count": null,
      "outputs": []
    },
    {
      "cell_type": "code",
      "source": [
        "Pima Indians Diabetes Dataset:\n",
        "https://www.kaggle.com/uciml/pima-indians-diabetes-database/data.\n",
        "\n",
        "\n",
        "df = pd.read_csv('../BasicClassification-lib/diabetes.csv')\n",
        "df.head()"
      ],
      "metadata": {
        "id": "MUW0kJEe_-V0"
      },
      "execution_count": null,
      "outputs": []
    },
    {
      "cell_type": "code",
      "source": [
        "np_random = np.random.RandomState(seed=12354)\n",
        "rand_unifs = np_random.uniform(0,1,size=df.shape[0])\n",
        "division_thresh = np.percentile(rand_unifs, 80)\n",
        "train_indicator = rand_unifs < division_thresh\n",
        "eval_indicator = rand_unifs >= division_thresh\n"
      ],
      "metadata": {
        "id": "gZzoAmj0_-zx"
      },
      "execution_count": null,
      "outputs": []
    },
    {
      "cell_type": "code",
      "source": [
        "train_df = df[train_indicator].reset_index(drop=True)\n",
        "train_features = train_df.loc[:, train_df.columns != 'Outcome'].values\n",
        "train_labels = train_df['Outcome'].values\n",
        "train_df.head()"
      ],
      "metadata": {
        "id": "oA5Fl9WQASvC"
      },
      "execution_count": null,
      "outputs": []
    },
    {
      "cell_type": "code",
      "source": [
        "eval_df = df[eval_indicator].reset_index(drop=True)\n",
        "eval_features = eval_df.loc[:, eval_df.columns != 'Outcome'].values\n",
        "eval_labels = eval_df['Outcome'].values\n",
        "eval_df.head()"
      ],
      "metadata": {
        "id": "NJME5rS5_-pY"
      },
      "execution_count": null,
      "outputs": []
    },
    {
      "cell_type": "markdown",
      "source": [
        "Preprocessing"
      ],
      "metadata": {
        "id": "CjfrkYqyAWuw"
      }
    },
    {
      "cell_type": "code",
      "source": [
        "train_df_with_nans = train_df.copy(deep=True)\n",
        "eval_df_with_nans = eval_df.copy(deep=True)\n",
        "for col_with_nans in ['BloodPressure', 'SkinThickness', 'BMI', 'Age']:\n",
        "    train_df_with_nans[col_with_nans] = train_df_with_nans[col_with_nans].replace(0, np.nan)\n",
        "    eval_df_with_nans[col_with_nans] = eval_df_with_nans[col_with_nans].replace(0, np.nan)\n",
        "train_features_with_nans = train_df_with_nans.loc[:, train_df_with_nans.columns != 'Outcome'].values\n",
        "eval_features_with_nans = eval_df_with_nans.loc[:, eval_df_with_nans.columns != 'Outcome'].values"
      ],
      "metadata": {
        "id": "PZgHd9hOAYzv"
      },
      "execution_count": null,
      "outputs": []
    },
    {
      "cell_type": "markdown",
      "source": [
        "Naive Bayes"
      ],
      "metadata": {
        "id": "2TU4kTjQAiAZ"
      }
    },
    {
      "cell_type": "markdown",
      "source": [
        "$$\\log p_y =\\begin{bmatrix}\\log p(y=0)\\\\\\log p(y=1)\\end{bmatrix}$$"
      ],
      "metadata": {
        "id": "AL-ZWJYwAuII"
      }
    },
    {
      "cell_type": "code",
      "source": [
        "def log_prior(train_labels):\n",
        "    \n",
        "    leng = train_labels.shape[0]\n",
        "    log_py = np.array([[np.log(np.where(train_labels == 0)[0].shape[0]/leng)], [np.log(np.where(train_labels == 1)[0].shape[0]/leng)]])\n",
        "    \n",
        "    assert log_py.shape == (2,1)\n",
        "    \n",
        "    return log_py"
      ],
      "metadata": {
        "id": "aKfkAAx3AhVq"
      },
      "execution_count": null,
      "outputs": []
    },
    {
      "cell_type": "markdown",
      "source": [
        "$$\\mu_y = \\begin{bmatrix} \\mathbb{E}[x^{(0)}|y=0] & \\mathbb{E}[x^{(0)}|y=1]\\\\\n",
        "\\mathbb{E}[x^{(1)}|y=0] & \\mathbb{E}[x^{(1)}|y=1] \\\\\n",
        "\\cdots & \\cdots\\\\\n",
        "\\mathbb{E}[x^{(7)}|y=0] & \\mathbb{E}[x^{(7)}|y=1]\\end{bmatrix}$$"
      ],
      "metadata": {
        "id": "DNEfJP2mAs7G"
      }
    },
    {
      "cell_type": "code",
      "source": [
        "def cc_mean_ignore_missing(train_features, train_labels):\n",
        "    N, d = train_features.shape\n",
        "    \n",
        "    yzer_idxs = np.where(train_labels == 0)[0]\n",
        "    yone_idxs = np.where(train_labels == 1)[0]\n",
        "                                 \n",
        "    means_yzer = np.mean(train_features[yzer_idxs], axis=0)\n",
        "    means_yone = np.mean(train_features[yone_idxs], axis=0)\n",
        "    \n",
        "    mu_y = np.array([means_yzer, means_yone]).T\n",
        "     \n",
        "    \n",
        "    assert mu_y.shape == (d, 2)\n",
        "    return mu_y"
      ],
      "metadata": {
        "id": "GmozGIdQAhtD"
      },
      "execution_count": null,
      "outputs": []
    },
    {
      "cell_type": "markdown",
      "source": [
        "$$\\sigma_y = \\begin{bmatrix} \\text{std}[x^{(0)}|y=0] & \\text{std}[x^{(0)}|y=1]\\\\\n",
        "\\text{std}[x^{(1)}|y=0] & \\text{std}[x^{(1)}|y=1] \\\\\n",
        "\\cdots & \\cdots\\\\\n",
        "\\text{std}[x^{(7)}|y=0] & \\text{std}[x^{(7)}|y=1]\\end{bmatrix}$$"
      ],
      "metadata": {
        "id": "jc5cc-_ZAyGo"
      }
    },
    {
      "cell_type": "code",
      "source": [
        "def cc_std_ignore_missing(train_features, train_labels):\n",
        "    N, d = train_features.shape\n",
        "    \n",
        "    yzer_idx = np.where(train_labels == 0)[0]\n",
        "    yone_idx = np.where(train_labels == 1)[0]\n",
        "                                 \n",
        "    std_yzer = np.std(train_features[yzer_idx], axis=0)\n",
        "    std_yone = np.std(train_features[yone_idx], axis=0)\n",
        "    \n",
        "    sigma_y = np.array([std_yzer, std_yone]).T\n",
        "    \n",
        "    assert sigma_y.shape == (d, 2)\n",
        "    \n",
        "    return sigma_y"
      ],
      "metadata": {
        "id": "tXnkvJqIAyja"
      },
      "execution_count": null,
      "outputs": []
    },
    {
      "cell_type": "markdown",
      "source": [
        "$$\\log p_{x,y} = \\begin{bmatrix} \\bigg[\\log p(y=0) + \\sum_{j=0}^{7} \\log p(x_1^{(j)}|y=0) \\bigg] & \\bigg[\\log p(y=1) + \\sum_{j=0}^{7} \\log p(x_1^{(j)}|y=1) \\bigg] \\\\\n",
        "\\bigg[\\log p(y=0) + \\sum_{j=0}^{7} \\log p(x_2^{(j)}|y=0) \\bigg] & \\bigg[\\log p(y=1) + \\sum_{j=0}^{7} \\log p(x_2^{(j)}|y=1) \\bigg] \\\\\n",
        "\\cdots & \\cdots \\\\\n",
        "\\bigg[\\log p(y=0) + \\sum_{j=0}^{7} \\log p(x_N^{(j)}|y=0) \\bigg] & \\bigg[\\log p(y=1) + \\sum_{j=0}^{7} \\log p(x_N^{(j)}|y=1) \\bigg] \\\\\n",
        "\\end{bmatrix}$$"
      ],
      "metadata": {
        "id": "RGL6zlA9A7zN"
      }
    },
    {
      "cell_type": "code",
      "source": [
        "def log_prob(train_features, mu_y, sigma_y, log_py):\n",
        "\n",
        "    #Gaussian Fits\n",
        "\n",
        "    \n",
        "    N, d = train_features.shape\n",
        "    \n",
        "    log_p_x_y = np.array([log_py[0] + np.sum(np.log( 1/(sigma_y[:,0] * np.sqrt(2*np.pi))) + (-(train_features[0] - mu_y[:,0])**2)/(2*sigma_y[:,0]**2)), \n",
        "                           log_py[1] + np.sum(np.log( 1/(sigma_y[:,1] * np.sqrt(2*np.pi))) + (-(train_features[0] - mu_y[:,1])**2)/(2*sigma_y[:,1]**2))])\n",
        "        \n",
        "    log_p_x_y = log_p_x_y.reshape(1, 2)\n",
        "    \n",
        "    for i in range(1, N):\n",
        "\n",
        "        log_p_x_y = np.append(log_p_x_y, [[(log_py[0] + np.sum(np.log( 1/(sigma_y[:,0]*np.sqrt(2*np.pi)))+(-(train_features[i] - mu_y[:,0])**2)/(2*sigma_y[:,0]**2)))[0], \n",
        "                           (log_py[1] + np.sum(np.log( 1/(sigma_y[:,1]*np.sqrt(2*np.pi)))+(-(train_features[i] - mu_y[:,1])**2)/(2*sigma_y[:,1]**2)))[0]]], axis=0)\n",
        "        \n",
        "\n",
        "    assert log_p_x_y.shape == (N,2)\n",
        "    return log_p_x_y"
      ],
      "metadata": {
        "id": "XKMGCl-dA8Ig"
      },
      "execution_count": null,
      "outputs": []
    },
    {
      "cell_type": "markdown",
      "source": [
        "## **Classifier!**"
      ],
      "metadata": {
        "id": "O7Ql0gJBBEb-"
      }
    },
    {
      "cell_type": "code",
      "source": [
        "class NBClassifier():\n",
        "    def __init__(self, train_features, train_labels):\n",
        "        self.train_features = train_features\n",
        "        self.train_labels = train_labels\n",
        "        self.log_py = log_prior(train_labels)\n",
        "        self.mu_y = self.get_cc_means()\n",
        "        self.sigma_y = self.get_cc_std()\n",
        "        \n",
        "    def get_cc_means(self):\n",
        "        mu_y = cc_mean_ignore_missing(self.train_features, self.train_labels)\n",
        "        return mu_y\n",
        "    \n",
        "    def get_cc_std(self):\n",
        "        sigma_y = cc_std_ignore_missing(self.train_features, self.train_labels)\n",
        "        return sigma_y\n",
        "    \n",
        "    def predict(self, features):\n",
        "        log_p_x_y = log_prob(features, self.mu_y, self.sigma_y, self.log_py)\n",
        "        return log_p_x_y.argmax(axis=1)"
      ],
      "metadata": {
        "id": "IdsvXoSdBDeN"
      },
      "execution_count": null,
      "outputs": []
    },
    {
      "cell_type": "code",
      "source": [
        "dia_classifier = NBClassifier(train_features, train_labels)\n",
        "train_pred = dia_classifier.predict(train_features)\n",
        "eval_pred = dia_classifier.predict(eval_features)"
      ],
      "metadata": {
        "id": "ODzUbxtYBITQ"
      },
      "execution_count": null,
      "outputs": []
    },
    {
      "cell_type": "code",
      "source": [
        "train_accuracy = (train_pred==train_labels).mean()\n",
        "eval_accuracy = (eval_pred==eval_labels).mean()\n",
        "print(f'The training data accuracy of your trained model is {train_accuracy}')\n",
        "print(f'The evaluation data accuracy of your trained model is {eval_accuracy}')"
      ],
      "metadata": {
        "id": "NQrza1p7BKjO"
      },
      "execution_count": null,
      "outputs": []
    }
  ]
}